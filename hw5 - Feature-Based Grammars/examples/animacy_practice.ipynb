{
  "cells": [
    {
      "cell_type": "markdown",
      "source": [
        "# HW #5 Practice Worksheet: Animacy\n",
        "\n",
        "As practice for HW #5, this Python notebook shows how to use NLTK's feature structure syntax, and visualize it in a way that will make debugging easier.\n",
        "\n",
        "## Helper Functions\n",
        "\n",
        "One of the powers of using a notebook like this is that is essentially an interpreter, so we can treat it like an interactive sandbox, with some helpful visualization tools as well.\n",
        "\nWe start out with a few helper functions below to help us compactly develop our grammars."
      ],
      "metadata": {
        "collapsed": false,
        "outputHidden": false,
        "inputHidden": false
      }
    },
    {
      "cell_type": "code",
      "source": [
        "import nltk, re\n",
        "\n",
        "def init_parser(grammar_str):\n",
        "    \"\"\"\n",
        "    Initialize a feature parser based on the input grammar string.\n",
        "    \"\"\"\n",
        "    grammar = nltk.grammar.FeatureGrammar.fromstring(grammar_str)\n",
        "    return nltk.parse.FeatureIncrementalChartParser(grammar)\n",
        "\n",
        "def init_sents(sent_str):\n",
        "    \"\"\"\n",
        "    Parse in a series of sentences, and their acceptability notation\n",
        "    as a tuple of (is_valid, sent).\n",
        "    \"\"\"\n",
        "    for sent in [s.strip() for s in sent_str.split('\\n') if s.strip()]:\n",
        "        is_valid = not sent.startswith('*')\n",
        "        tokens = nltk.tokenize.word_tokenize(re.sub('^\\*?\\s*', '', sent))\n",
        "        yield is_valid, tokens\n",
        "\n",
        "# A few IPython visualization tools\n",
        "from IPython.core.display import display_html, display_png\n",
        "def csscolor(s, c): return '<span style=\"color: {};\">{}</span>'.format(c, s)\n",
        "def html(s): display_html(s, raw=True)\n",
        "    \n",
        "def check_coverage(grammar_str, sent_str):\n",
        "    \"\"\"\n",
        "    A helper function to iterate over our defined grammar and sentence key,\n",
        "    and tell us whether or not we got the answer right for the given sentence.\n",
        "    \n",
        "    :type sent_list: list[str]\n",
        "    \"\"\"\n",
        "    ret_str = ''\n",
        "    parser = init_parser(grammar_str)\n",
        "    for is_valid, tokens in init_sents(sent_str):\n",
        "        valid_marker = '' if is_valid else '&#42; '\n",
        "        sent_repr = '{}{}'.format(valid_marker, ' '.join(tokens))\n",
        "        \n",
        "        def sent_error(extra=''):\n",
        "            html('\\u274C &nbsp;' + csscolor(sent_repr + extra, 'red'))\n",
        "        def sent_success(extra=''):\n",
        "            html('\\u2705 &nbsp;' + csscolor(sent_repr + extra, 'green'))\n",
        "        try:\n",
        "            parses = list(parser.parse(tokens))\n",
        "        except ValueError as ve:\n",
        "            html('\\u274C ' + csscolor(str(ve), 'red'))\n",
        "            continue\n",
        "        \n",
        "        if not parses:\n",
        "            if is_valid:\n",
        "                sent_error()\n",
        "            else:\n",
        "                sent_success()\n",
        "        else:\n",
        "            first_parse = ' {}'.format(parses[0])\n",
        "            if is_valid:                   \n",
        "                sent_success()\n",
        "            else:\n",
        "                sent_error()\n",
        "            display_png(parses[0])\n",
        "    display_html(ret_str, raw=True)"
      ],
      "outputs": [],
      "execution_count": 5,
      "metadata": {}
    },
    {
      "cell_type": "markdown",
      "source": [
        "# Practice\n",
        "\n",
        "Now that we've got the helper functions out of the way, let's get down to defining our grammar.\n",
        "\n",
        "Here, we're going to look at how some verbs seem to expect certain of their arguments to have animacy, as expressed by the following sentences:\n",
        "\n",
        "* *Alex gifted Ahmed a book*\n",
        "* <span style=\"color:red\">\\* *Alex gifted the rock a book*</span>\n",
        "\n",
        "Let's see if we can figure out how to provide an analysis that accepts *\"Ahmed\"* as an indirect object, but not *\"the rock*\".\n",
        "\n<small>*...although for an added challenge, add an analysis for the +animacy version of \"The Rock\" that goes by \"Dwayne.\"\"*</small>"
      ],
      "metadata": {}
    },
    {
      "cell_type": "code",
      "source": [
        "sentences = '''\n",
        "Alex gifted Ahmed a book\n",
        "* Alex gifted the rock a book\n",
        "'''\n",
        "\n",
        "grammar='''%start S\n",
        "S -> NP VP\n",
        "VP[subcat=ditrans] -> V NP NP\n",
        "\n",
        "NP -> NNP\n",
        "NP -> Det N\n",
        "\n",
        "NNP[animacy=True] -> 'Alex' | 'Ahmed'\n",
        "V -> 'gifted'\n",
        "Det -> 'a' | 'the'\n",
        "N[animacy=False] -> 'book' | 'rock'\n",
        "'''\n",
        "\ncheck_coverage(grammar, sentences)"
      ],
      "outputs": [
        {
          "output_type": "display_data",
          "data": {
            "text/html": [
              "✅ &nbsp;<span style=\"color: green;\">Alex gifted Ahmed a book</span>"
            ]
          },
          "metadata": {}
        },
        {
          "output_type": "display_data",
          "data": {
            "image/png": "[encoded data removed]"
          },
          "metadata": {}
        },
        {
          "output_type": "display_data",
          "data": {
            "text/html": [
              "❌ &nbsp;<span style=\"color: red;\">&#42; Alex gifted the rock a book</span>"
            ]
          },
          "metadata": {}
        },
        {
          "output_type": "display_data",
          "data": {
            "image/png": "[encoded data removed]"
          },
          "metadata": {}
        },
        {
          "output_type": "display_data",
          "data": {
            "text/html": []
          },
          "metadata": {}
        }
      ],
      "execution_count": 6,
      "metadata": {
        "collapsed": false,
        "outputHidden": false,
        "inputHidden": false
      }
    },
    {
      "cell_type": "code",
      "source": [],
      "outputs": [],
      "execution_count": null,
      "metadata": {
        "collapsed": false,
        "outputHidden": false,
        "inputHidden": false
      }
    }
  ],
  "metadata": {
    "kernel_info": {
      "name": "python3"
    },
    "language_info": {
      "name": "python",
      "version": "3.6.7",
      "mimetype": "text/x-python",
      "codemirror_mode": {
        "name": "ipython",
        "version": 3
      },
      "pygments_lexer": "ipython3",
      "nbconvert_exporter": "python",
      "file_extension": ".py"
    },
    "kernelspec": {
      "name": "python3",
      "language": "python",
      "display_name": "Python 3"
    },
    "nteract": {
      "version": "0.12.1"
    }
  },
  "nbformat": 4,
  "nbformat_minor": 4
}